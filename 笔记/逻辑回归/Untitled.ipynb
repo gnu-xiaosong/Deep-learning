{
 "cells": [
  {
   "cell_type": "code",
   "execution_count": 1,
   "metadata": {},
   "outputs": [],
   "source": [
    "import numpy as np\n",
    "import matplotlib.pyplot as plt"
   ]
  },
  {
   "cell_type": "code",
   "execution_count": 2,
   "metadata": {},
   "outputs": [],
   "source": [
    "def sigmoid(X, b, w):\n",
    "  \"\"\"Calculate the sigmoid function.\n",
    "\n",
    "  Args:\n",
    "    X: MxK ndarray of the input features. M: number of samples, K: number of features.\n",
    "    b: bias.\n",
    "    w: weights. ndarray of shape (K,).\n",
    "\n",
    "  Returns:\n",
    "    Sigmoid function value.\n",
    "  \"\"\"\n",
    "\n",
    "  z = b + X @ w\n",
    "  return 1 / (1 + np.exp(-z))\n",
    "\n",
    "\n",
    "def logloss(y, X, b, w):\n",
    "  \"\"\"Calculate the log-loss.\n",
    "\n",
    "  Args:\n",
    "    y: 1D ndarray of the target variable.\n",
    "    X: MxK ndarray of the input features. M: number of samples, K: number of features.\n",
    "    b: bias.\n",
    "    w: weights. ndarray of shape (K,).\n",
    "\n",
    "  Returns:\n",
    "    Log-loss.\n",
    "  \"\"\"\n",
    "\n",
    "  y_hat = sigmoid(X, b, w)\n",
    "  # When y_hat is almost equal to 0 or 1, log(y_hat) or log(1-y_hat) returns -inf.\n",
    "  # To prevent this, subtract or add an infinitesimal value (epsilon) to y_hat\n",
    "  # when it is close to 0 or 1.\n",
    "  epsilon = 1.e-7\n",
    "  y_hat = np.where(y_hat > 1 - epsilon, y_hat - epsilon, y_hat)\n",
    "  y_hat = np.where(y_hat < epsilon, y_hat + epsilon, y_hat)\n",
    "\n",
    "  loss = y * np.log(y_hat) + (1 - y) * np.log(1 - y_hat)\n",
    "  return loss\n",
    "\n",
    "\n",
    "def costfcn(y, X, b, w):\n",
    "  \"\"\"Calculate the log-loss cost function.\n",
    "\n",
    "  Args:\n",
    "    y: 1D ndarray of the target variable.\n",
    "    X: MxK ndarray of the input features. M: number of samples, K: number of features.\n",
    "    b: bias.\n",
    "    w: weights. ndarray of shape (K,).\n",
    "\n",
    "  Returns:\n",
    "    Cost function value.\n",
    "  \"\"\"\n",
    "\n",
    "  l = logloss(y, X, b, w)\n",
    "  J = -np.mean(l)\n",
    "\n",
    "  return J\n",
    "\n",
    "\n",
    "def gradient(y, X, b, w, lambda_):\n",
    "  \"\"\"Calculate gradients of the cost function with L2 regularization.\n",
    "\n",
    "  Args:\n",
    "    y: 1D ndarray of the target variable.\n",
    "    X: MxK ndarray of the input features. M: number of samples, K: number of features.\n",
    "    b: bias.\n",
    "    w: weights. ndarray of shape (K,).\n",
    "    lambda_: regularization parameter.\n",
    "\n",
    "  Returns:\n",
    "    dJ/db, dJ/dw.\n",
    "  \"\"\"\n",
    "\n",
    "  K = X.shape[1] # number of features.\n",
    "  y_hat = sigmoid(X, b, w)\n",
    "  dJdb = np.mean(y_hat - y)\n",
    "  dJdw = X.T @ (y_hat - y) / len(y) + 2 *lambda_ * w # Regularization term added.\n",
    "\n",
    "  return dJdb, dJdw\n",
    "\n",
    "\n",
    "def gradient_descent(y, X, alpha=0.01, tol=1.e-7, max_iter=10000):\n",
    "  \"\"\"Estimate parameters using a gradient decent algorithm.\n",
    "\n",
    "  Args:\n",
    "    y: 1D ndarray of the target variable.\n",
    "    X: MxK ndarray of the input features. M: number of samples, K: number of features.\n",
    "    alpha: learning rate.\n",
    "    tol: Tolerance. If the relative change of the cost function is less than tol,\n",
    "      the cost function is considered to have converged to a minimum.\n",
    "    max_iter: Maximum iterations.\n",
    "    lambda_: regularization parameter.\n",
    "\n",
    "  Returns:\n",
    "    Parameter estimates, b and w.\n",
    "  \"\"\"\n",
    "\n",
    "  K = X.shape[1] # number of features.\n",
    "  b = np.random.uniform()  # Random initial value of b.\n",
    "  w = np.random.uniform(size=K)  # Random initial value of w.\n",
    "\n",
    "  J0 = costfcn(y, X, b, w)\n",
    "\n",
    "  for i in range(max_iter):\n",
    "    # Update parameters.\n",
    "    dJdb, dJdw = gradient(y, X, b, w)\n",
    "    b -= alpha * dJdb\n",
    "    w -= alpha * dJdw\n",
    "\n",
    "    J = costfcn(y, X, b, w)\n",
    "    if i % 100 == 0:\n",
    "      print(f'{i}: b = {b}, w = {w}, J = {J}')\n",
    "\n",
    "    # Check convergence.\n",
    "    if np.abs((J-J0) / J0) < tol:\n",
    "      break\n",
    "    else:\n",
    "      J0 = J\n",
    "\n",
    "  if i == max_iter:\n",
    "    print('Maximum iteration reached before convergence.')\n",
    "\n",
    "  return b, w"
   ]
  },
  {
   "cell_type": "code",
   "execution_count": 3,
   "metadata": {},
   "outputs": [
    {
     "name": "stdout",
     "output_type": "stream",
     "text": [
      "Proportion of 1s: 0.503\n"
     ]
    }
   ],
   "source": [
    "m = 10000\n",
    "b = 0.5\n",
    "w = [3, 1, -1, 5]\n",
    "X = np.random.uniform(-10, 10, (m, 4))\n",
    "z = b + X @ w + np.random.normal(0, 2, m)\n",
    "s = 1 / (1 + np.exp(-z))\n",
    "y = (s > 0.5).astype(int)\n",
    "print('Proportion of 1s:', y.sum()/m)"
   ]
  },
  {
   "cell_type": "code",
   "execution_count": 4,
   "metadata": {},
   "outputs": [
    {
     "name": "stdout",
     "output_type": "stream",
     "text": [
      "\n",
      "Regularization parameter (lambda): 0.01\n"
     ]
    },
    {
     "ename": "NameError",
     "evalue": "name 'gradient_descent_with_regularization' is not defined",
     "output_type": "error",
     "traceback": [
      "\u001b[0;31m---------------------------------------------------------------------------\u001b[0m",
      "\u001b[0;31mNameError\u001b[0m                                 Traceback (most recent call last)",
      "\u001b[0;32m<ipython-input-4-6f3aabbe664b>\u001b[0m in \u001b[0;36m<module>\u001b[0;34m\u001b[0m\n\u001b[1;32m      4\u001b[0m \u001b[0;32mfor\u001b[0m \u001b[0mlambda_\u001b[0m \u001b[0;32min\u001b[0m \u001b[0mlambda_values\u001b[0m\u001b[0;34m:\u001b[0m\u001b[0;34m\u001b[0m\u001b[0;34m\u001b[0m\u001b[0m\n\u001b[1;32m      5\u001b[0m     \u001b[0mprint\u001b[0m\u001b[0;34m(\u001b[0m\u001b[0;34mf'\\nRegularization parameter (lambda): {lambda_}'\u001b[0m\u001b[0;34m)\u001b[0m\u001b[0;34m\u001b[0m\u001b[0;34m\u001b[0m\u001b[0m\n\u001b[0;32m----> 6\u001b[0;31m     \u001b[0mb_hat\u001b[0m\u001b[0;34m,\u001b[0m \u001b[0mw_hat\u001b[0m \u001b[0;34m=\u001b[0m \u001b[0mgradient_descent_with_regularization\u001b[0m\u001b[0;34m(\u001b[0m\u001b[0my\u001b[0m\u001b[0;34m,\u001b[0m \u001b[0mX\u001b[0m\u001b[0;34m,\u001b[0m \u001b[0malpha\u001b[0m\u001b[0;34m=\u001b[0m\u001b[0;36m0.3\u001b[0m\u001b[0;34m,\u001b[0m \u001b[0mlambda_\u001b[0m\u001b[0;34m=\u001b[0m\u001b[0mlambda_\u001b[0m\u001b[0;34m,\u001b[0m \u001b[0mtol\u001b[0m\u001b[0;34m=\u001b[0m\u001b[0;36m1.e-5\u001b[0m\u001b[0;34m,\u001b[0m \u001b[0mmax_iter\u001b[0m\u001b[0;34m=\u001b[0m\u001b[0;36m10000\u001b[0m\u001b[0;34m)\u001b[0m\u001b[0;34m\u001b[0m\u001b[0;34m\u001b[0m\u001b[0m\n\u001b[0m\u001b[1;32m      7\u001b[0m     \u001b[0mprint\u001b[0m\u001b[0;34m(\u001b[0m\u001b[0;34m'bias:'\u001b[0m\u001b[0;34m,\u001b[0m \u001b[0mb_hat\u001b[0m\u001b[0;34m)\u001b[0m\u001b[0;34m\u001b[0m\u001b[0;34m\u001b[0m\u001b[0m\n\u001b[1;32m      8\u001b[0m     \u001b[0mprint\u001b[0m\u001b[0;34m(\u001b[0m\u001b[0;34m'weights:'\u001b[0m\u001b[0;34m,\u001b[0m \u001b[0mw_hat\u001b[0m\u001b[0;34m)\u001b[0m\u001b[0;34m\u001b[0m\u001b[0;34m\u001b[0m\u001b[0m\n",
      "\u001b[0;31mNameError\u001b[0m: name 'gradient_descent_with_regularization' is not defined"
     ]
    }
   ],
   "source": [
    "# Testing with different values of lamba\n",
    "lambda_values = [0.01, 0.1, 1.0]  # Different values of lambda (regularization parameter)\n",
    "\n",
    "for lambda_ in lambda_values:\n",
    "    print(f'\\nRegularization parameter (lambda): {lambda_}')\n",
    "    b_hat, w_hat = gradient_descent_with_regularization(y, X, alpha=0.3, lambda_=lambda_, tol=1.e-5, max_iter=10000)\n",
    "    print('bias:', b_hat)\n",
    "    print('weights:', w_hat)"
   ]
  },
  {
   "cell_type": "code",
   "execution_count": 5,
   "metadata": {},
   "outputs": [
    {
     "ename": "TypeError",
     "evalue": "gradient() missing 1 required positional argument: 'lambda_'",
     "output_type": "error",
     "traceback": [
      "\u001b[0;31m---------------------------------------------------------------------------\u001b[0m",
      "\u001b[0;31mTypeError\u001b[0m                                 Traceback (most recent call last)",
      "\u001b[0;32m<ipython-input-5-8f21266cd0db>\u001b[0m in \u001b[0;36m<module>\u001b[0;34m\u001b[0m\n\u001b[0;32m----> 1\u001b[0;31m \u001b[0mb_hat\u001b[0m\u001b[0;34m,\u001b[0m \u001b[0mw_hat\u001b[0m \u001b[0;34m=\u001b[0m \u001b[0mgradient_descent\u001b[0m\u001b[0;34m(\u001b[0m\u001b[0my\u001b[0m\u001b[0;34m,\u001b[0m \u001b[0mX\u001b[0m\u001b[0;34m,\u001b[0m \u001b[0malpha\u001b[0m\u001b[0;34m=\u001b[0m\u001b[0;36m0.3\u001b[0m\u001b[0;34m,\u001b[0m \u001b[0mtol\u001b[0m\u001b[0;34m=\u001b[0m\u001b[0;36m1.e-5\u001b[0m\u001b[0;34m,\u001b[0m \u001b[0mmax_iter\u001b[0m\u001b[0;34m=\u001b[0m\u001b[0;36m10000\u001b[0m\u001b[0;34m)\u001b[0m\u001b[0;34m\u001b[0m\u001b[0;34m\u001b[0m\u001b[0m\n\u001b[0m\u001b[1;32m      2\u001b[0m \u001b[0mprint\u001b[0m\u001b[0;34m(\u001b[0m\u001b[0;34m'bias:'\u001b[0m\u001b[0;34m,\u001b[0m \u001b[0mb_hat\u001b[0m\u001b[0;34m)\u001b[0m\u001b[0;34m\u001b[0m\u001b[0;34m\u001b[0m\u001b[0m\n\u001b[1;32m      3\u001b[0m \u001b[0mprint\u001b[0m\u001b[0;34m(\u001b[0m\u001b[0;34m'weights:'\u001b[0m\u001b[0;34m,\u001b[0m \u001b[0mw_hat\u001b[0m\u001b[0;34m)\u001b[0m\u001b[0;34m\u001b[0m\u001b[0;34m\u001b[0m\u001b[0m\n",
      "\u001b[0;32m<ipython-input-2-f0b84786a37a>\u001b[0m in \u001b[0;36mgradient_descent\u001b[0;34m(y, X, alpha, tol, max_iter)\u001b[0m\n\u001b[1;32m    105\u001b[0m   \u001b[0;32mfor\u001b[0m \u001b[0mi\u001b[0m \u001b[0;32min\u001b[0m \u001b[0mrange\u001b[0m\u001b[0;34m(\u001b[0m\u001b[0mmax_iter\u001b[0m\u001b[0;34m)\u001b[0m\u001b[0;34m:\u001b[0m\u001b[0;34m\u001b[0m\u001b[0;34m\u001b[0m\u001b[0m\n\u001b[1;32m    106\u001b[0m     \u001b[0;31m# Update parameters.\u001b[0m\u001b[0;34m\u001b[0m\u001b[0;34m\u001b[0m\u001b[0;34m\u001b[0m\u001b[0m\n\u001b[0;32m--> 107\u001b[0;31m     \u001b[0mdJdb\u001b[0m\u001b[0;34m,\u001b[0m \u001b[0mdJdw\u001b[0m \u001b[0;34m=\u001b[0m \u001b[0mgradient\u001b[0m\u001b[0;34m(\u001b[0m\u001b[0my\u001b[0m\u001b[0;34m,\u001b[0m \u001b[0mX\u001b[0m\u001b[0;34m,\u001b[0m \u001b[0mb\u001b[0m\u001b[0;34m,\u001b[0m \u001b[0mw\u001b[0m\u001b[0;34m)\u001b[0m\u001b[0;34m\u001b[0m\u001b[0;34m\u001b[0m\u001b[0m\n\u001b[0m\u001b[1;32m    108\u001b[0m     \u001b[0mb\u001b[0m \u001b[0;34m-=\u001b[0m \u001b[0malpha\u001b[0m \u001b[0;34m*\u001b[0m \u001b[0mdJdb\u001b[0m\u001b[0;34m\u001b[0m\u001b[0;34m\u001b[0m\u001b[0m\n\u001b[1;32m    109\u001b[0m     \u001b[0mw\u001b[0m \u001b[0;34m-=\u001b[0m \u001b[0malpha\u001b[0m \u001b[0;34m*\u001b[0m \u001b[0mdJdw\u001b[0m\u001b[0;34m\u001b[0m\u001b[0;34m\u001b[0m\u001b[0m\n",
      "\u001b[0;31mTypeError\u001b[0m: gradient() missing 1 required positional argument: 'lambda_'"
     ]
    }
   ],
   "source": [
    "b_hat, w_hat = gradient_descent(y, X, alpha=0.3, tol=1.e-5, max_iter=10000)\n",
    "print('bias:', b_hat)\n",
    "print('weights:', w_hat)"
   ]
  },
  {
   "cell_type": "code",
   "execution_count": 6,
   "metadata": {},
   "outputs": [
    {
     "ename": "NameError",
     "evalue": "name 'b_hat' is not defined",
     "output_type": "error",
     "traceback": [
      "\u001b[0;31m---------------------------------------------------------------------------\u001b[0m",
      "\u001b[0;31mNameError\u001b[0m                                 Traceback (most recent call last)",
      "\u001b[0;32m<ipython-input-6-1ddc443048df>\u001b[0m in \u001b[0;36m<module>\u001b[0;34m\u001b[0m\n\u001b[1;32m      1\u001b[0m \u001b[0mz\u001b[0m \u001b[0;34m=\u001b[0m \u001b[0mb\u001b[0m \u001b[0;34m+\u001b[0m \u001b[0mX\u001b[0m \u001b[0;34m@\u001b[0m \u001b[0mw\u001b[0m\u001b[0;34m\u001b[0m\u001b[0;34m\u001b[0m\u001b[0m\n\u001b[1;32m      2\u001b[0m \u001b[0mplt\u001b[0m\u001b[0;34m.\u001b[0m\u001b[0mscatter\u001b[0m\u001b[0;34m(\u001b[0m\u001b[0mz\u001b[0m\u001b[0;34m,\u001b[0m \u001b[0my\u001b[0m\u001b[0;34m)\u001b[0m\u001b[0;34m\u001b[0m\u001b[0;34m\u001b[0m\u001b[0m\n\u001b[0;32m----> 3\u001b[0;31m \u001b[0mz_hat\u001b[0m \u001b[0;34m=\u001b[0m \u001b[0mb_hat\u001b[0m \u001b[0;34m+\u001b[0m \u001b[0mX\u001b[0m \u001b[0;34m@\u001b[0m \u001b[0mw_hat\u001b[0m\u001b[0;34m\u001b[0m\u001b[0;34m\u001b[0m\u001b[0m\n\u001b[0m\u001b[1;32m      4\u001b[0m \u001b[0mz_hat\u001b[0m \u001b[0;34m=\u001b[0m \u001b[0mnp\u001b[0m\u001b[0;34m.\u001b[0m\u001b[0msort\u001b[0m\u001b[0;34m(\u001b[0m\u001b[0mz_hat\u001b[0m\u001b[0;34m)\u001b[0m\u001b[0;34m\u001b[0m\u001b[0;34m\u001b[0m\u001b[0m\n\u001b[1;32m      5\u001b[0m \u001b[0my_hat\u001b[0m \u001b[0;34m=\u001b[0m \u001b[0;36m1\u001b[0m \u001b[0;34m/\u001b[0m \u001b[0;34m(\u001b[0m\u001b[0;36m1\u001b[0m \u001b[0;34m+\u001b[0m \u001b[0mnp\u001b[0m\u001b[0;34m.\u001b[0m\u001b[0mexp\u001b[0m\u001b[0;34m(\u001b[0m\u001b[0;34m-\u001b[0m\u001b[0mz_hat\u001b[0m\u001b[0;34m)\u001b[0m\u001b[0;34m)\u001b[0m\u001b[0;34m\u001b[0m\u001b[0;34m\u001b[0m\u001b[0m\n",
      "\u001b[0;31mNameError\u001b[0m: name 'b_hat' is not defined"
     ]
    },
    {
     "data": {
      "image/png": "[encoded data removed]",
      "text/plain": [
       "<Figure size 432x288 with 1 Axes>"
      ]
     },
     "metadata": {
      "needs_background": "light"
     },
     "output_type": "display_data"
    }
   ],
   "source": [
    "z = b + X @ w\n",
    "plt.scatter(z, y)\n",
    "z_hat = b_hat + X @ w_hat\n",
    "z_hat = np.sort(z_hat)\n",
    "y_hat = 1 / (1 + np.exp(-z_hat))\n",
    "plt.plot(z_hat, y_hat, color='red')\n",
    "plt.show()"
   ]
  },
  {
   "cell_type": "code",
   "execution_count": null,
   "metadata": {},
   "outputs": [],
   "source": [
    "from sklearn.linear_model import LogisticRegression"
   ]
  },
  {
   "cell_type": "code",
   "execution_count": 7,
   "metadata": {},
   "outputs": [
    {
     "ename": "NameError",
     "evalue": "name 'LogisticRegression' is not defined",
     "output_type": "error",
     "traceback": [
      "\u001b[0;31m---------------------------------------------------------------------------\u001b[0m",
      "\u001b[0;31mNameError\u001b[0m                                 Traceback (most recent call last)",
      "\u001b[0;32m<ipython-input-7-4c1e5ebec181>\u001b[0m in \u001b[0;36m<module>\u001b[0;34m\u001b[0m\n\u001b[0;32m----> 1\u001b[0;31m \u001b[0mclf\u001b[0m \u001b[0;34m=\u001b[0m \u001b[0mLogisticRegression\u001b[0m\u001b[0;34m(\u001b[0m\u001b[0mpenalty\u001b[0m\u001b[0;34m=\u001b[0m\u001b[0;32mNone\u001b[0m\u001b[0;34m)\u001b[0m\u001b[0;34m.\u001b[0m\u001b[0mfit\u001b[0m\u001b[0;34m(\u001b[0m\u001b[0mX\u001b[0m\u001b[0;34m,\u001b[0m \u001b[0my\u001b[0m\u001b[0;34m)\u001b[0m\u001b[0;34m\u001b[0m\u001b[0;34m\u001b[0m\u001b[0m\n\u001b[0m\u001b[1;32m      2\u001b[0m \u001b[0mprint\u001b[0m\u001b[0;34m(\u001b[0m\u001b[0;34m'bias:'\u001b[0m\u001b[0;34m,\u001b[0m \u001b[0mclf\u001b[0m\u001b[0;34m.\u001b[0m\u001b[0mintercept_\u001b[0m\u001b[0;34m)\u001b[0m\u001b[0;34m\u001b[0m\u001b[0;34m\u001b[0m\u001b[0m\n\u001b[1;32m      3\u001b[0m \u001b[0mprint\u001b[0m\u001b[0;34m(\u001b[0m\u001b[0;34m'weights:'\u001b[0m\u001b[0;34m,\u001b[0m \u001b[0mclf\u001b[0m\u001b[0;34m.\u001b[0m\u001b[0mcoef_\u001b[0m\u001b[0;34m)\u001b[0m\u001b[0;34m\u001b[0m\u001b[0;34m\u001b[0m\u001b[0m\n",
      "\u001b[0;31mNameError\u001b[0m: name 'LogisticRegression' is not defined"
     ]
    }
   ],
   "source": [
    "clf = LogisticRegression(penalty=None).fit(X, y)\n",
    "print('bias:', clf.intercept_)\n",
    "print('weights:', clf.coef_)"
   ]
  }
 ],
 "metadata": {
  "kernelspec": {
   "display_name": "Python 3",
   "language": "python",
   "name": "python3"
  },
  "language_info": {
   "codemirror_mode": {
    "name": "ipython",
    "version": 3
   },
   "file_extension": ".py",
   "mimetype": "text/x-python",
   "name": "python",
   "nbconvert_exporter": "python",
   "pygments_lexer": "ipython3",
   "version": "3.7.6"
  }
 },
 "nbformat": 4,
 "nbformat_minor": 4
}
