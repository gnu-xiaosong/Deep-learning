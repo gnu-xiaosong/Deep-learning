{
 "cells": [
  {
   "cell_type": "markdown",
   "metadata": {},
   "source": [
    "# Optional Lab: Model Representation\n",
    "\n",
    "<figure>\n",
    " <img src=\"./images/C1_W1_L3_S1_Lecture_b.png\"   style=\"width:600px;height:200px;\">\n",
    "</figure>"
   ]
  },
  {
   "cell_type": "markdown",
   "metadata": {},
   "source": [
    "## Goals\n",
    "In this lab you will:\n",
    "- Learn to implement the model $f_{w,b}$ for linear regression with one variable"
   ]
  },
  {
   "cell_type": "markdown",
   "metadata": {},
   "source": [
    "## Notation\n",
    "Here is a summary of some of the notation you will encounter.  \n",
    "\n",
    "|General <img width=70/> <br />  Notation  <img width=70/> | Description<img width=350/>| Python (if applicable) |\n",
    "|: ------------|: ------------------------------------------------------------||\n",
    "| $a$ | scalar, non bold                                                      ||\n",
    "| $\\mathbf{a}$ | vector, bold                                                      ||\n",
    "| **Regression** |         |    |     |\n",
    "|  $\\mathbf{x}$ | Training Example feature values (in this lab - Size (1000 sqft))  | `x_train` |   \n",
    "|  $\\mathbf{y}$  | Training Example  targets (in this lab Price (1000s of dollars))  | `y_train` \n",
    "|  $x^{(i)}$, $y^{(i)}$ | $i_{th}$Training Example | `x_i`, `y_i`|\n",
    "| m | Number of training examples | `m`|\n",
    "|  $w$  |  parameter: weight                                 | `w`    |\n",
    "|  $b$           |  parameter: bias                                           | `b`    |     \n",
    "| $f_{w,b}(x^{(i)})$ | The result of the model evaluation at $x^{(i)}$ parameterized by $w,b$: $f_{w,b}(x^{(i)}) = wx^{(i)}+b$  | `f_wb` | \n"
   ]
  },
  {
   "cell_type": "markdown",
   "metadata": {},
   "source": [
    "## Tools\n",
    "In this lab you will make use of: \n",
    "- NumPy, a popular library for scientific computing\n",
    "- Matplotlib, a popular library for plotting data"
   ]
  },
  {
   "cell_type": "code",
   "execution_count": 22,
   "metadata": {},
   "outputs": [],
   "source": [
    "import numpy as np\n",
    "import matplotlib.pyplot as plt\n",
    "plt.style.use('./deeplearning.mplstyle')"
   ]
  },
  {
   "cell_type": "markdown",
   "metadata": {},
   "source": [
    "# Problem Statement\n",
    "<img align=\"left\" src=\"./images/C1_W1_L3_S1_trainingdata.png\"    style=\" width:380px; padding: 10px;  \" /> \n",
    "\n",
    "As in the lecture, you will use the motivating example of housing price prediction.  \n",
    "This lab will use a simple data set with only two data points - a house with 1000 square feet(sqft) sold for \\\\$300,000 and a house with 2000 square feet sold for \\\\$500,000. These two points will constitute our *data or training set*. In this lab, the units of size are 1000 sqft and the units of price are 1000s of dollars.\n",
    "\n",
    "| Size (1000 sqft)     | Price (1000s of dollars) |\n",
    "| -------------------| ------------------------ |\n",
    "| 1.0               | 300                      |\n",
    "| 2.0               | 500                      |\n",
    "\n",
    "You would like to fit a linear regression model (shown above as the blue straight line) through these two points, so you can then predict price for other houses - say, a house with 1200 sqft.\n"
   ]
  },
  {
   "cell_type": "markdown",
   "metadata": {},
   "source": [
    "Please run the following code cell to create your `x_train` and `y_train` variables. The data is stored in one-dimensional NumPy arrays."
   ]
  },
  {
   "cell_type": "code",
   "execution_count": 23,
   "metadata": {},
   "outputs": [
    {
     "name": "stdout",
     "output_type": "stream",
     "text": [
      "x_train is:[1.0 2.0 list([3, 4])]\n",
      "y_train = [300. 500.]\n",
      "z_train = [[ 23  45 -89]\n",
      " [  1   2   3]\n",
      " [  5   6   7]\n",
      " [  8   9  10]]\n",
      "lenth of z_train= (4, 3)\n"
     ]
    }
   ],
   "source": [
    "# x_train is the input variable (size in 1000 square feet)\n",
    "# y_train is the target (price in 1000s of dollars)\n",
    "import numpy as np  ##导入 NumPy 库，用于创建和操作数组。\n",
    "import matplotlib.pyplot as plt  ##导入 Matplotlib 库的 pyplot 模块，用于数据可视化。\n",
    "plt.style.use('./deeplearning.mplstyle')  ##设置 Matplotlib 图形的样式，使用了一个名为 \"deeplearning.mplstyle\" 的样式文件。\n",
    "x_train = np.array([1.0, 2.0,[3,4]])  \n",
    "y_train = np.array([300.0, 500.0])\n",
    "##创建了两个 NumPy 数组 x_train 和 y_train，分别表示输入变量和目标变量。这里使用了 np.array() 函数将列表转换为 NumPy 数组。\n",
    "\n",
    "z_train = np.array([[23, 45, -89],[1,2,3],[5,6,7],[8,9,10]])\n",
    "# z_train = np.array([[23, 45, -89],[1,2,3],[5,6,7,8]])\n",
    "##创建了另一个 NumPy 数组 z_train。这是一个二维数组，其中包含了多个列表，每个列表的长度不一样。\n",
    "##这种不规则的二维数组在 NumPy 中通常被称为“嵌套列表”或“不均匀数组”。\n",
    "\n",
    "print(f\"x_train is:{x_train}\")\n",
    "\n",
    "print(f\"y_train = {y_train}\")\n",
    "\n",
    "print(f\"z_train = {z_train}\")\n",
    "##打印了三个数组的内容。使用了格式化字符串，{} 中的内容会被对应的变量值替换。\n",
    "\n",
    "print(f'lenth of z_train= {z_train.shape}')\n",
    "##打印了数组 z_train 的形状（shape），即其行数和列数。.shape 是 NumPy 数组的属性，用于获取数组的形状信息。\n",
    "\n",
    "##总的来说，这段代码主要是演示了如何创建和使用 NumPy 数组，以及打印数组的内容和形状信息。"
   ]
  },
  {
   "cell_type": "markdown",
   "metadata": {},
   "source": [
    ">**Note**: The course will frequently utilize the python 'f-string' output formatting described [here](https://docs.python.org/3/tutorial/inputoutput.html) when printing. The content between the curly braces is evaluated when producing the output."
   ]
  },
  {
   "cell_type": "markdown",
   "metadata": {},
   "source": [
    "### Number of training examples `m`\n",
    "You will use `m` to denote the number of training examples. Numpy arrays have a `.shape` parameter. `x_train.shape` returns a python tuple with an entry for each dimension. `x_train.shape[0]` is the length of the array and number of examples as shown below."
   ]
  },
  {
   "cell_type": "code",
   "execution_count": 24,
   "metadata": {
    "scrolled": false
   },
   "outputs": [
    {
     "name": "stdout",
     "output_type": "stream",
     "text": [
      "Number of training examples is: 3\n",
      "Number of training examples is: (4, 3)\n"
     ]
    }
   ],
   "source": [
    "# m is the number of training examples\n",
    "m = x_train.shape[0]\n",
    "print(f\"Number of training examples is: {m}\")\n",
    "k = z_train.shape\n",
    "print(f\"Number of training examples is: {k}\")"
   ]
  },
  {
   "cell_type": "markdown",
   "metadata": {},
   "source": [
    "One can also use the Python `len()` function as shown below."
   ]
  },
  {
   "cell_type": "code",
   "execution_count": 20,
   "metadata": {
    "scrolled": true
   },
   "outputs": [
    {
     "name": "stdout",
     "output_type": "stream",
     "text": [
      "Number of training examples is: 3\n",
      "Number of training examples is: 4\n",
      "Number of training examples is: 2\n"
     ]
    }
   ],
   "source": [
    "# m is the number of training examples\n",
    "m = len(x_train)\n",
    "print(f\"Number of training examples is: {m}\")\n",
    "n = len(z_train)\n",
    "print(f\"Number of training examples is: {n}\")\n",
    "k = len(y_train)\n",
    "print(f\"Number of training examples is: {k}\")"
   ]
  },
  {
   "cell_type": "markdown",
   "metadata": {},
   "source": [
    "## python len输出函数与.shape有什么不同？\n",
    "在 Python 中，`len()` 函数和 `.shape` 属性用于获取序列的长度或者数组的形状，但是它们的使用方式和适用范围有所不同。\n",
    "\n",
    "1. `len()` 函数：\n",
    "   - 适用范围：`len()` 函数适用于任何序列类型，例如列表、元组、字符串等。\n",
    "   - 功能：`len()` 函数返回序列中元素的数量，即序列的长度。\n",
    "   - 示例：\n",
    "     ```python\n",
    "     my_list = [1, 2, 3, 4, 5]\n",
    "     print(len(my_list))  # 输出结果为 5\n",
    "     ```\n",
    "\n",
    "2. `.shape` 属性：\n",
    "   - 适用范围：`.shape` 属性通常用于 NumPy 数组或者其他类似的多维数组类型。\n",
    "   - 功能：`.shape` 属性返回数组的形状信息，即数组的维度和每个维度的大小。\n",
    "   - 示例：\n",
    "     ```python\n",
    "     import numpy as np\n",
    "     my_array = np.array([[1, 2, 3], [4, 5, 6]])\n",
    "     print(my_array.shape)  # 输出结果为 (2, 3)，表示数组有2行3列\n",
    "     ```\n",
    "\n",
    "综上所述，`len()` 函数用于获取任何序列类型的长度，而 `.shape` 属性通常用于获取多维数组的形状信息。在处理数组时，推荐使用 `.shape` 属性来获取数组的形状，而在处理列表、元组等序列类型时，则使用 `len()` 函数来获取长度。"
   ]
  },
  {
   "cell_type": "markdown",
   "metadata": {},
   "source": [
    "### Training example `x_i, y_i`\n",
    "\n",
    "You will use (x$^{(i)}$, y$^{(i)}$) to denote the $i^{th}$ training example. Since Python is zero indexed, (x$^{(0)}$, y$^{(0)}$) is (1.0, 300.0) and (x$^{(1)}$, y$^{(1)}$) is (2.0, 500.0). \n",
    "\n",
    "To access a value in a Numpy array, one indexes the array with the desired offset. For example the syntax to access location zero of `x_train` is `x_train[0]`.\n",
    "Run the next code block below to get the $i^{th}$ training example."
   ]
  },
  {
   "cell_type": "code",
   "execution_count": 25,
   "metadata": {},
   "outputs": [
    {
     "name": "stdout",
     "output_type": "stream",
     "text": [
      "(x^(0), y^(0)) = (1.0, 300.0)\n",
      "(x^(0), z^(0)) = (1.0, [23, 45, -89])\n",
      "(y^(0), z^(0)) = (300.0, [23, 45, -89])\n",
      "(x^(1), y^(1)) = (2.0, 500.0)\n",
      "(x^(1), z^(1)) = (2.0, [1, 2, 3])\n",
      "(y^(1), z^(1)) = (500.0, [1, 2, 3])\n",
      "(3,)\n"
     ]
    },
    {
     "data": {
      "image/png": "[encoded data removed]",
      "text/plain": [
       "<Figure size 432x288 with 1 Axes>"
      ]
     },
     "metadata": {},
     "output_type": "display_data"
    }
   ],
   "source": [
    "for i in range(len(y_train)):\n",
    "    ##这是一个 for 循环，它遍历了训练集中目标变量 y_train 的索引。\n",
    "    ##range(len(y_train)) 生成一个包含训练集样本数量的索引范围，从 0 到 len(y_train)-1\n",
    "    ##如果我想让range从索引1开始循环，即：for i in range(1, len(y_train)):\n",
    "    \n",
    "# i = 1 # Change this to 1 to see (x^1, y^1)\n",
    "\n",
    "    x_train = np.array([1.0, 2.0])  \n",
    "    y_train = np.array([300.0, 500.0])\n",
    "    z_train = np.array([[23, 45, -89],[1,2,3],[5,6,7,8]])\n",
    "\n",
    "    x_i = x_train[i]\n",
    "    y_i = y_train[i]\n",
    "    z_i = z_train[i]\n",
    "    print(f\"(x^({i}), y^({i})) = ({x_i}, {y_i})\")\n",
    "    print(f\"(x^({i}), z^({i})) = ({x_i}, {z_i})\")\n",
    "    print(f\"(y^({i}), z^({i})) = ({y_i}, {z_i})\")\n",
    "    plt.scatter(x_i, y_i, marker='x', c='b') # c = color\n",
    "    # Plot the data points\n",
    "\n",
    "print(z_train.shape)\n",
    "# Set the title\n",
    "plt.title(\"Housing Prices\")\n",
    "# Set the y-axis label\n",
    "plt.ylabel('Price (in 1000s of dollars)')\n",
    "# Set the x-axis label\n",
    "plt.xlabel('Size (1000 sqft)')\n",
    "plt.show()"
   ]
  },
  {
   "cell_type": "markdown",
   "metadata": {},
   "source": [
    "### Plotting the data"
   ]
  },
  {
   "cell_type": "markdown",
   "metadata": {},
   "source": [
    "You can plot these two points using the `scatter()` function in the `matplotlib` library, as shown in the cell below. \n",
    "- The function arguments `marker` and `c` show the points as red crosses (the default is blue dots).\n",
    "\n",
    "You can use other functions in the `matplotlib` library to set the title and labels to display"
   ]
  },
  {
   "cell_type": "code",
   "execution_count": 6,
   "metadata": {
    "scrolled": true
   },
   "outputs": [
    {
     "data": {
      "image/png": "[encoded data removed]",
      "text/plain": [
       "<Figure size 432x288 with 1 Axes>"
      ]
     },
     "metadata": {},
     "output_type": "display_data"
    }
   ],
   "source": [
    "import matplotlib.pyplot as plt\n",
    "# Plot the data points\n",
    "plt.scatter(x_train, y_train, marker='*', c='y')\n",
    "# Set the title\n",
    "plt.title(\"Housing Prices\")\n",
    "# Set the y-axis label\n",
    "plt.ylabel('Price (in 1000s of dollars)')\n",
    "# Set the x-axis label\n",
    "plt.xlabel('Size (1000 sqft)')\n",
    "plt.show()"
   ]
  },
  {
   "cell_type": "markdown",
   "metadata": {},
   "source": [
    "## Model function\n",
    "\n",
    "<img align=\"left\" src=\"./images/C1_W1_L3_S1_model.png\"     style=\" width:380px; padding: 10px; \" > As described in lecture, the model function for linear regression (which is a function that maps from `x` to `y`) is represented as \n",
    "\n",
    "$$ f_{w,b}(x^{(i)}) = wx^{(i)} + b \\tag{1}$$\n",
    "\n",
    "The formula above is how you can represent straight lines - different values of $w$ and $b$ give you different straight lines on the plot. <br/> <br/> <br/> <br/> <br/> \n",
    "\n",
    "Let's try to get a better intuition for this through the code blocks below. Let's start with $w = 100$ and $b = 100$. \n",
    "\n",
    "**Note: You can come back to this cell to adjust the model's w and b parameters**"
   ]
  },
  {
   "cell_type": "code",
   "execution_count": 29,
   "metadata": {},
   "outputs": [
    {
     "name": "stdout",
     "output_type": "stream",
     "text": [
      "w: 100\n",
      "b: 100\n"
     ]
    }
   ],
   "source": [
    "w = 100\n",
    "b = 100\n",
    "print(f\"w:\",w)\n",
    "print(f\"b: {b}\")"
   ]
  },
  {
   "cell_type": "markdown",
   "metadata": {},
   "source": [
    "Now, let's compute the value of $f_{w,b}(x^{(i)})$ for your two data points. You can explicitly write this out for each data point as - \n",
    "\n",
    "for $x^{(0)}$, `f_wb = w * x[0] + b`\n",
    "\n",
    "for $x^{(1)}$, `f_wb = w * x[1] + b`\n",
    "\n",
    "For a large number of data points, this can get unwieldy and repetitive. So instead, you can calculate the function output in a `for` loop as shown in the `compute_model_output` function below.\n",
    "> **Note**: The argument description `(ndarray (m,))` describes a Numpy n-dimensional array of shape (m,). `(scalar)` describes an argument without dimensions, just a magnitude.  \n",
    "> **Note**: `np.zero(n)` will return a one-dimensional numpy array with $n$ entries   \n"
   ]
  },
  {
   "cell_type": "code",
   "execution_count": 36,
   "metadata": {},
   "outputs": [],
   "source": [
    "def compute_model_output(x, w, b):\n",
    "    \"\"\"\n",
    "    Computes the prediction of a linear model\n",
    "    Args:\n",
    "      x (ndarray (m,)): Data, m examples \n",
    "      w,b (scalar)    : model parameters  \n",
    "    Returns\n",
    "      f_wb (ndarray (m,)): model prediction\n",
    "    \"\"\"\n",
    "    w=200\n",
    "    b=100\n",
    "    m = x.shape[0]\n",
    "    print(\"m:\",m)\n",
    "    f_wb = np.zeros(m)\n",
    "    print(f_wb)\n",
    "    for i in range(m):\n",
    "        f_wb[i] = w * x[i] + b\n",
    "        \n",
    "    return f_wb"
   ]
  },
  {
   "cell_type": "markdown",
   "metadata": {},
   "source": [
    "Now let's call the `compute_model_output` function and plot the output.."
   ]
  },
  {
   "cell_type": "code",
   "execution_count": 37,
   "metadata": {
    "scrolled": true
   },
   "outputs": [
    {
     "name": "stdout",
     "output_type": "stream",
     "text": [
      "m: 2\n",
      "[0. 0.]\n"
     ]
    },
    {
     "data": {
      "image/png": "[encoded data removed]",
      "text/plain": [
       "<Figure size 432x288 with 1 Axes>"
      ]
     },
     "metadata": {},
     "output_type": "display_data"
    }
   ],
   "source": [
    "tmp_f_wb = compute_model_output(x_train, w, b,)\n",
    "# x_train = np.array([1.0, 2.0])\n",
    "# Plot our model prediction\n",
    "plt.plot(x_train, tmp_f_wb, c='b',label='Our Prediction')\n",
    "\n",
    "\n",
    "# Plot the data points\n",
    "plt.scatter(x_train, y_train, marker='x', c='r',label='Actual Values')\n",
    "\n",
    "# Set the title\n",
    "plt.title(\"Housing Prices\")\n",
    "# Set the y-axis label\n",
    "plt.ylabel('Price (in 1000s of dollars)')\n",
    "# Set the x-axis label\n",
    "plt.xlabel('Size (1000 sqft)')\n",
    "plt.legend()\n",
    "plt.show()\n"
   ]
  },
  {
   "cell_type": "markdown",
   "metadata": {},
   "source": [
    "As you can see, setting $w = 100$ and $b = 100$ does *not* result in a line that fits our data. \n",
    "\n",
    "### Challenge\n",
    "Try experimenting with different values of $w$ and $b$. What should the values be for a line that fits our data?\n",
    "\n",
    "#### Tip:\n",
    "You can use your mouse to click on the green \"Hints\" below to reveal some hints for choosing b and w."
   ]
  },
  {
   "cell_type": "markdown",
   "metadata": {},
   "source": [
    "<details>\n",
    "<summary>\n",
    "    <font size='3', color='darkgreen'><b>Hints</b></font>\n",
    "</summary>\n",
    "    <p>\n",
    "    <ul>\n",
    "        <li>Try $w = 200$ and $b = 100$ </li>\n",
    "    </ul>\n",
    "    </p>"
   ]
  },
  {
   "cell_type": "markdown",
   "metadata": {},
   "source": [
    "### Prediction\n",
    "Now that we have a model, we can use it to make our original prediction. Let's predict the price of a house with 1200 sqft. Since the units of $x$ are in 1000's of sqft, $x$ is 1.2.\n"
   ]
  },
  {
   "cell_type": "code",
   "execution_count": 38,
   "metadata": {},
   "outputs": [
    {
     "name": "stdout",
     "output_type": "stream",
     "text": [
      "$340 thousand dollars\n"
     ]
    }
   ],
   "source": [
    "w = 200                         \n",
    "b = 100    \n",
    "x_i = 1.2\n",
    "cost_1200sqft = w * x_i + b    \n",
    "\n",
    "print(f\"${cost_1200sqft:.0f} thousand dollars\")"
   ]
  },
  {
   "cell_type": "markdown",
   "metadata": {},
   "source": [
    "# Congratulations!\n",
    "In this lab you have learned:\n",
    " - Linear regression builds a model which establishes a relationship between features and targets\n",
    "     - In the example above, the feature was house size and the target was house price\n",
    "     - for simple linear regression, the model has two parameters $w$ and $b$ whose values are 'fit' using *training data*.\n",
    "     - once a model's parameters have been determined, the model can be used to make predictions on novel data."
   ]
  },
  {
   "cell_type": "markdown",
   "metadata": {},
   "source": [
    "## 其他问题：\n",
    "\n",
    "基本上是这样的，不过我需要指出一些修正：\n",
    "\n",
    "    NumPy不是计算器，而是Python的一个科学计算库，它提供了高性能的多维数组对象以及用于处理这些数组的各种函数。Matplotlib也不是计算器，它是Python的一个用于绘制图表的库。\n",
    "\n",
    "    代码的主要内容是：\n",
    "\n",
    "        导入NumPy和Matplotlib库；\n",
    "        定义原始数据 x 和 y，并计算数据总量 m；\n",
    "        可视化原始数据；\n",
    "        定义线性回归模型函数；\n",
    "        通过调整模型参数进行预测，并可视化结果。\n",
    "代码中并没有直接进行数值计算或者可视化的操作，而是主要是数据的准备、模型的定义和预测，以及结果的展示。\n",
    "\n",
    "函数就是线性回归的那根线的值。\n",
    "我们是要在算出大致正确的函数后，才能对其他数值进行预测？\n",
    "    \n",
    "    是的，对于线性回归模型，首先需要通过训练数据拟合出一个合适的模型，即找到合适的权重和偏置参数，使得模型能够较好地拟合训练数据。一旦得到了合适的模型，就可以用这个模型来对新的输入数据进行预测，从而得到预测结果。"
   ]
  },
  {
   "cell_type": "code",
   "execution_count": 23,
   "metadata": {
    "scrolled": true
   },
   "outputs": [
    {
     "name": "stdout",
     "output_type": "stream",
     "text": [
      "[0. 0.]\n"
     ]
    },
    {
     "data": {
      "text/plain": [
       "<function matplotlib.pyplot.show(*args, **kw)>"
      ]
     },
     "execution_count": 23,
     "metadata": {},
     "output_type": "execute_result"
    },
    {
     "data": {
      "image/png": "[encoded data removed]",
      "text/plain": [
       "<Figure size 432x288 with 1 Axes>"
      ]
     },
     "metadata": {},
     "output_type": "display_data"
    }
   ],
   "source": []
  },
  {
   "cell_type": "code",
   "execution_count": null,
   "metadata": {},
   "outputs": [],
   "source": []
  },
  {
   "cell_type": "code",
   "execution_count": null,
   "metadata": {},
   "outputs": [],
   "source": []
  },
  {
   "cell_type": "code",
   "execution_count": null,
   "metadata": {},
   "outputs": [],
   "source": []
  }
 ],
 "metadata": {
  "kernelspec": {
   "display_name": "Python 3",
   "language": "python",
   "name": "python3"
  },
  "language_info": {
   "codemirror_mode": {
    "name": "ipython",
    "version": 3
   },
   "file_extension": ".py",
   "mimetype": "text/x-python",
   "name": "python",
   "nbconvert_exporter": "python",
   "pygments_lexer": "ipython3",
   "version": "3.7.6"
  },
  "toc-autonumbering": false
 },
 "nbformat": 4,
 "nbformat_minor": 5
}
