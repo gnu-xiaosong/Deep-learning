{
 "cells": [
  {
   "cell_type": "markdown",
   "id": "abf62ad9-008f-4f20-8b13-281763192fff",
   "metadata": {},
   "source": [
    "# 机器学习-前言介绍"
   ]
  },
  {
   "cell_type": "markdown",
   "id": "6d76ab31-b2e8-47ec-bd41-cdea814b1c79",
   "metadata": {},
   "source": [
    "### 监督学习（supervised Learning）"
   ]
  },
  {
   "cell_type": "markdown",
   "id": "05288ad6-3f21-4f82-98d7-413735f0275d",
   "metadata": {},
   "source": [
    "#### 特征"
   ]
  },
  {
   "cell_type": "markdown",
   "id": "c9e19446-9bde-4132-a539-7344d51858ca",
   "metadata": {},
   "source": [
    "* 有输入数据X，输出数据Y标签"
   ]
  },
  {
   "cell_type": "markdown",
   "id": "0fcf22a9-5628-42aa-9502-a5c6a44b6efb",
   "metadata": {},
   "source": [
    "* 从正确的answer中学习，再用新的x输入预测"
   ]
  },
  {
   "cell_type": "markdown",
   "id": "e8063922-3f91-4142-b654-a3cc1e4d919e",
   "metadata": {},
   "source": [
    "#### 类型"
   ]
  },
  {
   "attachments": {
    "9f0455f2-1ead-42ec-b9ab-8b3919e4ddb2.png": {
     "image/png": "[encoded data removed]"
    }
   },
   "cell_type": "markdown",
   "id": "bafa94be-d0f2-4727-960a-da19643ebb14",
   "metadata": {},
   "source": [
    "* Regresssion  回归\n",
    "* classification 分类\n",
    "\n",
    "![image.png](attachment:9f0455f2-1ead-42ec-b9ab-8b3919e4ddb2.png)"
   ]
  },
  {
   "cell_type": "markdown",
   "id": "ada594b2-03f9-46e1-997e-d2c0ed2bd955",
   "metadata": {},
   "source": [
    "## 无监督学习(unsupervised Learning)"
   ]
  },
  {
   "cell_type": "markdown",
   "id": "dfd9707c-39f9-453c-bc11-531a4d830c67",
   "metadata": {},
   "source": [
    "#### 定义\n",
    "Data only comes with input x, but not output label y, Algorithm has to find **structure** in the data. \n",
    "在没有输出标签y的情况下，算法需要寻找数据中的**结构**，这通常是通过无监督学习（Unsupervised Learning）来实现的。无监督学习是一种让机器学习模型从输入数据中找出潜在结构或模式的方法，而不需要明确的标签或结果来指导学习过程。\n",
    "#### 特征\n",
    "* 仅有输入数据x，你没有正确的answer答案label\n",
    "* 需要unsupervised Learning 自己找到某种“兴趣点”，即找到正确的answer答案label\n",
    "\n",
    "#### 常见方法和技术\n",
    "* 聚类\n",
    "* 降维\n",
    "* 异常检测"
   ]
  },
  {
   "cell_type": "code",
   "execution_count": 13,
   "id": "f23c7e21-39bf-4593-b2e0-9845f4c8e149",
   "metadata": {},
   "outputs": [
    {
     "name": "stdout",
     "output_type": "stream",
     "text": [
      "[[0. 0. 0. ... 0. 0. 0.]\n",
      " [0. 0. 0. ... 0. 0. 0.]\n",
      " [0. 0. 0. ... 0. 0. 0.]\n",
      " ...\n",
      " [0. 0. 0. ... 0. 0. 0.]\n",
      " [0. 0. 0. ... 0. 0. 0.]\n",
      " [0. 0. 0. ... 0. 0. 0.]] [5 0 4 ... 5 6 8]\n",
      "[[0. 0. 0. ... 0. 0. 0.]\n",
      " [0. 0. 0. ... 0. 0. 0.]\n",
      " [0. 0. 0. ... 0. 0. 0.]\n",
      " ...\n",
      " [0. 0. 0. ... 0. 0. 0.]\n",
      " [0. 0. 0. ... 0. 0. 0.]\n",
      " [0. 0. 0. ... 0. 0. 0.]]\n",
      "[1 1 1 ... 1 1 1]\n",
      "Accuracy: 0.1135\n"
     ]
    }
   ],
   "source": [
    "import numpy as np\n",
    "import tensorflow as tf\n",
    "\n",
    "# 加载MNIST数据集\n",
    "(train_images, train_labels), (test_images, test_labels) = tf.keras.datasets.mnist.load_data()\n",
    "\n",
    "# 数据预处理：将图像数据展平成一维向量，并将像素值归一化到0到1之间\n",
    "def preprocess_data(images):\n",
    "    images = images.reshape(images.shape[0], -1) / 255.0\n",
    "    return images\n",
    "\n",
    "# 定义逻辑回归模型\n",
    "class LogisticRegression:\n",
    "    def __init__(self, lr=0.01, num_iterations=1000):\n",
    "        self.lr = lr\n",
    "        self.num_iterations = num_iterations\n",
    "\n",
    "    # 训练模型\n",
    "    def fit(self, X, y):\n",
    "        print(X,y)\n",
    "        self.X = np.insert(X, 0, 1, axis=1)  # 添加偏置项\n",
    "        self.y = y\n",
    "        self.theta = np.zeros(self.X.shape[1])  # 初始化参数\n",
    "        for _ in range(self.num_iterations):\n",
    "            z = np.dot(self.X, self.theta)\n",
    "            h = 1 / (1 + np.exp(-z))\n",
    "            gradient = np.dot(self.X.T, (h - self.y)) / self.y.size\n",
    "            self.theta -= self.lr * gradient\n",
    "\n",
    "    # 预测\n",
    "    def predict(self, X):\n",
    "        X = np.insert(X, 0, 1, axis=1)\n",
    "        z = np.dot(X, self.theta)\n",
    "        h = 1 / (1 + np.exp(-z))\n",
    "        return (h >= 0.5).astype(int)\n",
    "\n",
    "# 主函数\n",
    "def main():\n",
    "    # 数据预处理\n",
    "    train_images_processed = preprocess_data(train_images)\n",
    "    test_images_processed = preprocess_data(test_images)\n",
    "\n",
    "    # 创建并训练逻辑回归模型\n",
    "    lr_model = LogisticRegression(lr=0.1, num_iterations=1000)\n",
    "    lr_model.fit(train_images_processed, train_labels)\n",
    "\n",
    "\n",
    "    print(test_images_processed)\n",
    "    # 对测试集进行预测\n",
    "    predictions = lr_model.predict(test_images_processed)\n",
    "\n",
    "    print(predictions)\n",
    "    # 计算准确率\n",
    "    accuracy = np.mean(predictions == test_labels)\n",
    "    print(\"Accuracy:\", accuracy)\n",
    "\n",
    "if __name__ == \"__main__\":\n",
    "    main()\n"
   ]
  },
  {
   "cell_type": "code",
   "execution_count": null,
   "id": "93a265ae-b6d9-490a-9978-e17452665df9",
   "metadata": {},
   "outputs": [],
   "source": []
  }
 ],
 "metadata": {
  "kernelspec": {
   "display_name": "Python 3 (ipykernel)",
   "language": "python",
   "name": "python3"
  },
  "language_info": {
   "codemirror_mode": {
    "name": "ipython",
    "version": 3
   },
   "file_extension": ".py",
   "mimetype": "text/x-python",
   "name": "python",
   "nbconvert_exporter": "python",
   "pygments_lexer": "ipython3",
   "version": "3.8.8"
  }
 },
 "nbformat": 4,
 "nbformat_minor": 5
}
